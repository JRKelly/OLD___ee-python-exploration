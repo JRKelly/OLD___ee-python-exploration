{
 "metadata": {
  "name": "",
  "signature": "sha256:f731ff90591fb7174a7cfe44f9a867cae31293231d3845e5061552592136962c"
 },
 "nbformat": 3,
 "nbformat_minor": 0,
 "worksheets": [
  {
   "cells": [
    {
     "cell_type": "heading",
     "level": 2,
     "metadata": {},
     "source": [
      "Using Bash from python (ipython notebook)"
     ]
    },
    {
     "cell_type": "code",
     "collapsed": false,
     "input": [
      "tif = r\"/Users/Kit/DEM_95.tif\" # define a python variable"
     ],
     "language": "python",
     "metadata": {},
     "outputs": [],
     "prompt_number": 3
    },
    {
     "cell_type": "heading",
     "level": 3,
     "metadata": {},
     "source": [
      "The %%bash cell magic performs several lines of bash code.  You can bring python variables in with you and bash variables out."
     ]
    },
    {
     "cell_type": "code",
     "collapsed": false,
     "input": [
      "%%bash -s \"$tif\" --out output \n",
      "## the -s shows the variables coming into bash \n",
      "## the -out stores output in a variable called output\n",
      "proj1=$(gdalinfo $1 | head -7 | tail -1 ) \n",
      "## the $1 means the first of the imported variables; you could have several.\n",
      "echo $proj1 "
     ],
     "language": "python",
     "metadata": {},
     "outputs": [],
     "prompt_number": 4
    },
    {
     "cell_type": "code",
     "collapsed": false,
     "input": [
      "#back in python\n",
      "print(\"Coord system is \" + output[:-2] + \"].\")"
     ],
     "language": "python",
     "metadata": {},
     "outputs": [
      {
       "output_type": "stream",
       "stream": "stdout",
       "text": [
        "Coord system is LOCAL_CS[\"NAD_1983_StatePlane_Connecticut_FIPS_0600_Feet\"].\n"
       ]
      }
     ],
     "prompt_number": 5
    },
    {
     "cell_type": "heading",
     "level": 3,
     "metadata": {},
     "source": [
      "Or, for a quick single line, you can use ! and store output in a textfile."
     ]
    },
    {
     "cell_type": "code",
     "collapsed": false,
     "input": [
      "!gdalinfo /Users/Kit/DEM_95.tif > /Users/Kit/Deminfo.txt"
     ],
     "language": "python",
     "metadata": {},
     "outputs": [],
     "prompt_number": 6
    },
    {
     "cell_type": "code",
     "collapsed": false,
     "input": [
      "#back in python\n",
      "name = r\"/Users/Kit/Deminfo.txt\"\n",
      "with open(name) as fp:\n",
      "    for line in fp:\n",
      "        if line[0:5]=='Coord':\n",
      "            nextline = next(fp)\n",
      "            print(\"Coord system is \" + nextline[:-2] + \"].\")"
     ],
     "language": "python",
     "metadata": {},
     "outputs": [
      {
       "output_type": "stream",
       "stream": "stdout",
       "text": [
        "Coord system is LOCAL_CS[\"NAD_1983_StatePlane_Connecticut_FIPS_0600_Feet\"].\n"
       ]
      }
     ],
     "prompt_number": 25
    },
    {
     "cell_type": "heading",
     "level": 2,
     "metadata": {},
     "source": [
      "Using R from python"
     ]
    },
    {
     "cell_type": "heading",
     "level": 3,
     "metadata": {},
     "source": [
      "You must have the rpy2 module installed (pip install rpy2)."
     ]
    },
    {
     "cell_type": "code",
     "collapsed": false,
     "input": [
      "import rpy2, pandas ## pandas is nice, but not part of using R."
     ],
     "language": "python",
     "metadata": {},
     "outputs": [],
     "prompt_number": 2
    },
    {
     "cell_type": "code",
     "collapsed": false,
     "input": [
      "# make a small dataframe in python to have some data\n",
      "firstfile = \"/Users/Kit/Desktop/Overlapping/1_height_1st_all.txt\"\n",
      "first = pandas.read_csv(firstfile, header=0, delimiter=\" \")\n",
      "df = pandas.DataFrame(first)\n",
      "df.columns = ['Xcoord', 'Ycoord', 'Zcoord', 'Angle']\n",
      "df = df[0:10]\n",
      "df"
     ],
     "language": "python",
     "metadata": {},
     "outputs": [
      {
       "html": [
        "<div style=\"max-height:1000px;max-width:1500px;overflow:auto;\">\n",
        "<table border=\"1\" class=\"dataframe\">\n",
        "  <thead>\n",
        "    <tr style=\"text-align: right;\">\n",
        "      <th></th>\n",
        "      <th>Xcoord</th>\n",
        "      <th>Ycoord</th>\n",
        "      <th>Zcoord</th>\n",
        "      <th>Angle</th>\n",
        "    </tr>\n",
        "  </thead>\n",
        "  <tbody>\n",
        "    <tr>\n",
        "      <th>0</th>\n",
        "      <td> 605999.02</td>\n",
        "      <td> 6600330.48</td>\n",
        "      <td>  0.01</td>\n",
        "      <td> 2</td>\n",
        "    </tr>\n",
        "    <tr>\n",
        "      <th>1</th>\n",
        "      <td> 605993.98</td>\n",
        "      <td> 6600329.47</td>\n",
        "      <td>  1.03</td>\n",
        "      <td> 2</td>\n",
        "    </tr>\n",
        "    <tr>\n",
        "      <th>2</th>\n",
        "      <td> 605997.64</td>\n",
        "      <td> 6600330.62</td>\n",
        "      <td>  0.01</td>\n",
        "      <td> 2</td>\n",
        "    </tr>\n",
        "    <tr>\n",
        "      <th>3</th>\n",
        "      <td> 605950.11</td>\n",
        "      <td> 6600335.34</td>\n",
        "      <td> -0.01</td>\n",
        "      <td> 0</td>\n",
        "    </tr>\n",
        "    <tr>\n",
        "      <th>4</th>\n",
        "      <td> 605975.87</td>\n",
        "      <td> 6600331.05</td>\n",
        "      <td> 11.94</td>\n",
        "      <td> 1</td>\n",
        "    </tr>\n",
        "    <tr>\n",
        "      <th>5</th>\n",
        "      <td> 605995.84</td>\n",
        "      <td> 6600329.33</td>\n",
        "      <td> -0.01</td>\n",
        "      <td> 2</td>\n",
        "    </tr>\n",
        "    <tr>\n",
        "      <th>6</th>\n",
        "      <td> 605996.39</td>\n",
        "      <td> 6600330.72</td>\n",
        "      <td>  0.01</td>\n",
        "      <td> 2</td>\n",
        "    </tr>\n",
        "    <tr>\n",
        "      <th>7</th>\n",
        "      <td> 605996.96</td>\n",
        "      <td> 6600329.21</td>\n",
        "      <td> -0.01</td>\n",
        "      <td> 2</td>\n",
        "    </tr>\n",
        "    <tr>\n",
        "      <th>8</th>\n",
        "      <td> 605956.74</td>\n",
        "      <td> 6600333.15</td>\n",
        "      <td> -0.01</td>\n",
        "      <td> 1</td>\n",
        "    </tr>\n",
        "    <tr>\n",
        "      <th>9</th>\n",
        "      <td> 605958.91</td>\n",
        "      <td> 6600332.96</td>\n",
        "      <td>  0.26</td>\n",
        "      <td> 1</td>\n",
        "    </tr>\n",
        "  </tbody>\n",
        "</table>\n",
        "</div>"
       ],
       "metadata": {},
       "output_type": "pyout",
       "prompt_number": 3,
       "text": [
        "      Xcoord      Ycoord  Zcoord  Angle\n",
        "0  605999.02  6600330.48    0.01      2\n",
        "1  605993.98  6600329.47    1.03      2\n",
        "2  605997.64  6600330.62    0.01      2\n",
        "3  605950.11  6600335.34   -0.01      0\n",
        "4  605975.87  6600331.05   11.94      1\n",
        "5  605995.84  6600329.33   -0.01      2\n",
        "6  605996.39  6600330.72    0.01      2\n",
        "7  605996.96  6600329.21   -0.01      2\n",
        "8  605956.74  6600333.15   -0.01      1\n",
        "9  605958.91  6600332.96    0.26      1"
       ]
      }
     ],
     "prompt_number": 3
    },
    {
     "cell_type": "heading",
     "level": 3,
     "metadata": {},
     "source": [
      "Importing variables is similar to %%Bash, but in R you can use their python names."
     ]
    },
    {
     "cell_type": "code",
     "collapsed": false,
     "input": [
      "%load_ext rmagic\n",
      "## only need to load rmagic once\n",
      "## this block is still speaking python\n",
      "Y = df.Zcoord\n",
      "X1 = df.Angle\n",
      "\n",
      "## send variables to R:\n",
      "%R -i Y,X1 ## must have no spaces between variables "
     ],
     "language": "python",
     "metadata": {},
     "outputs": [
      {
       "output_type": "stream",
       "stream": "stdout",
       "text": [
        "The rmagic extension is already loaded. To reload it, use:\n",
        "  %reload_ext rmagic\n"
       ]
      }
     ],
     "prompt_number": 4
    },
    {
     "cell_type": "code",
     "collapsed": false,
     "input": [
      "%%R\n",
      "pretty.lousy.model <- lm(Y ~ X1)\n",
      "summary(pretty.lousy.model)"
     ],
     "language": "python",
     "metadata": {},
     "outputs": [
      {
       "metadata": {},
       "output_type": "display_data",
       "text": [
        "\n",
        "Call:\n",
        "lm(formula = Y ~ X1)\n",
        "\n",
        "Residuals:\n",
        "    Min      1Q  Median      3Q     Max \n",
        "-3.1853 -1.4384 -0.7042 -0.6942 10.0002 \n",
        "\n",
        "Coefficients:\n",
        "            Estimate Std. Error t value Pr(>|t|)\n",
        "(Intercept)    3.175      2.992   1.061    0.320\n",
        "X1            -1.236      1.821  -0.679    0.517\n",
        "\n",
        "Residual standard error: 3.862 on 8 degrees of freedom\n",
        "Multiple R-squared:  0.05443,\tAdjusted R-squared:  -0.06377 \n",
        "F-statistic: 0.4605 on 1 and 8 DF,  p-value: 0.5165\n",
        "\n"
       ]
      }
     ],
     "prompt_number": 5
    },
    {
     "cell_type": "heading",
     "level": 3,
     "metadata": {},
     "source": [
      "%R can run a single line of R code.  Needs an extra step, %Rpull, to export R variables back to python."
     ]
    },
    {
     "cell_type": "code",
     "collapsed": false,
     "input": [
      "%R coefs = coefficients(pretty.lousy.model) \n",
      "%Rpull coefs\n",
      "%R -o coefs"
     ],
     "language": "python",
     "metadata": {},
     "outputs": [],
     "prompt_number": 27
    },
    {
     "cell_type": "code",
     "collapsed": false,
     "input": [
      "#back in python\n",
      "coefs"
     ],
     "language": "python",
     "metadata": {},
     "outputs": [
      {
       "metadata": {},
       "output_type": "pyout",
       "prompt_number": 28,
       "text": [
        "array([ 3.17533333, -1.23555556])"
       ]
      }
     ],
     "prompt_number": 28
    }
   ],
   "metadata": {}
  }
 ]
}