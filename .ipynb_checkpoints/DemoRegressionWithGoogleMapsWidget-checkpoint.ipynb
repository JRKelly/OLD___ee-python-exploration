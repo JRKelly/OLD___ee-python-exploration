{
 "metadata": {
  "name": "",
  "signature": "sha256:81d5d206f246da3f1ca4f74887e251d7108f9ed4f323cfb24fc8dd6617a29910"
 },
 "nbformat": 3,
 "nbformat_minor": 0,
 "worksheets": [
  {
   "cells": [
    {
     "cell_type": "code",
     "collapsed": false,
     "input": [
      "# Load code to setup authorization for an IPython Notebook. Note that this is a temporary step\n",
      "# that is required until the Earth Engine Python API is updated to include this logic.\n",
      "%run 'authorize_earth_engine_in_notebook.ipynb'\n",
      "\n",
      "# Initialize Earth Engine\n",
      "# Note that we are calling a function defined in the previously run IPython Notebook, rather than\n",
      "# the typical call to ee.Initialize()\n",
      "ee_initialize()\n"
     ],
     "language": "python",
     "metadata": {},
     "outputs": [
      {
       "html": [
        "Authentication successful!"
       ],
       "metadata": {},
       "output_type": "display_data",
       "text": [
        "<IPython.core.display.HTML at 0x108708cd0>"
       ]
      },
      {
       "html": [
        "Authentication successful!"
       ],
       "metadata": {},
       "output_type": "display_data",
       "text": [
        "<IPython.core.display.HTML at 0x1068a5410>"
       ]
      }
     ],
     "prompt_number": 1
    },
    {
     "cell_type": "code",
     "collapsed": false,
     "input": [
      "%matplotlib inline\n",
      "\n",
      "from __future__ import print_function # For py 2.7 compat\n",
      "\n",
      "import ee\n",
      "import os\n",
      "\n",
      "from IPython.html import widgets\n",
      "from IPython.display import display\n",
      "from IPython.utils import traitlets\n",
      "from IPython.core.display import Javascript"
     ],
     "language": "python",
     "metadata": {},
     "outputs": [],
     "prompt_number": 2
    },
    {
     "cell_type": "code",
     "collapsed": false,
     "input": [
      "## requires modules ee, os, ipython, shapely, geopandas, statsmodels (scipy), matplotlib & pyplot (numpy)"
     ],
     "language": "python",
     "metadata": {},
     "outputs": [],
     "prompt_number": 3
    },
    {
     "cell_type": "heading",
     "level": 3,
     "metadata": {},
     "source": [
      "Tyler Erickson's Google Maps widget."
     ]
    },
    {
     "cell_type": "code",
     "collapsed": false,
     "input": [
      "%run 'define_google_maps_interactive_widget.ipynb'"
     ],
     "language": "python",
     "metadata": {},
     "outputs": [
      {
       "javascript": [
        "\n",
        "require([\"widgets/js/widget\"], function(WidgetManager){\n",
        "    var maps = [];\n",
        "    \n",
        "    // Define the GoogleMapsView\n",
        "    var GoogleMapsView = IPython.DOMWidgetView.extend({\n",
        "        \n",
        "        render: function() {\n",
        "            // Resize widget element to be 100% wide\n",
        "            this.$el.css('width', '100%');\n",
        "\n",
        "            // iframe source;  just enough to load Google Maps and let us poll whether initialization is complete\n",
        "            var src='<html style=\"height:100%\"><head>' +\n",
        "                '<scr'+'ipt src=\"http://maps.googleapis.com/maps/api/js?sensor=false\"></scr'+'ipt>' +\n",
        "                '<scr'+'ipt>google.maps.event.addDomListener(window,\"load\",function(){ready=true});</scr'+'ipt>' +\n",
        "                '</head>' +\n",
        "                '<body style=\"height:100%; margin:0px; padding:0px\"></body></html>';\n",
        "            \n",
        "            // Create the Google Maps container element.\n",
        "            this.$iframe = $('<iframe />')\n",
        "                .css('width', '100%')\n",
        "                .css('height', '300px')\n",
        "                .attr('srcdoc', src)\n",
        "                .appendTo(this.$el);\n",
        "                        \n",
        "            var self = this; // hold onto this for initMapWhenReady\n",
        "\n",
        "            // Wait until maps library has finished loading in iframe, then create map\n",
        "            function initMapWhenReady() {\n",
        "                // Iframe document and window\n",
        "                var doc = self.$iframe[0].contentDocument;\n",
        "                var win = self.$iframe[0].contentWindow;\n",
        "                if (!win || !win.ready) {\n",
        "                    // Maps library not yet loaded;  try again soon\n",
        "                    setTimeout(initMapWhenReady, 20);\n",
        "                    return;\n",
        "                }\n",
        "\n",
        "                // Maps library finished loading.  Build map now.\n",
        "                var mapOptions = {\n",
        "                    center: new win.google.maps.LatLng(self.model.get('lat'), self.model.get('lng')),\n",
        "                    zoom: self.model.get('zoom')\n",
        "                };\n",
        "                var mapDiv = $('<div />')\n",
        "                    .css('width', '100%')\n",
        "                    .css('height', '100%')\n",
        "                    .appendTo($(doc.body));\n",
        "                self.map = new win.google.maps.Map(mapDiv[0], mapOptions);\n",
        "                \n",
        "                \n",
        "                // Add an event listeners for user panning, zooming, and resizing map\n",
        "                // TODO(rsargent): Bind self across all methods, and save some plumbing here\n",
        "                win.google.maps.event.addListener(self.map, 'bounds_changed', function () {\n",
        "                    self.handleBoundsChanged();\n",
        "                });\n",
        "                \n",
        "                self.initializeLayersControl();\n",
        "            }\n",
        "            initMapWhenReady();\n",
        "        },\n",
        "        \n",
        "        LayersControl: function(widget, controlDiv, map) {\n",
        "            var win = widget.$iframe[0].contentWindow;\n",
        "            var chicago = new win.google.maps.LatLng(41.850033, -87.6500523);\n",
        "\n",
        "            // Set CSS styles for the DIV containing the control\n",
        "            // Setting padding to 5 px will offset the control\n",
        "            // from the edge of the map.\n",
        "            controlDiv.style.padding = '5px';\n",
        "\n",
        "            // Set CSS for the control border.\n",
        "            var $controlUI = $('<div />')\n",
        "                .css('backgroundColor', 'white')\n",
        "                .css('borderStyle', 'solid')\n",
        "                .css('borderWidth', '1px')\n",
        "                .css('cursor', 'pointer')\n",
        "                .css('textAlign', 'center')\n",
        "                .appendTo($(controlDiv));\n",
        "            \n",
        "            // Set CSS for the control interior.\n",
        "            var $controlContents = $('<div />')\n",
        "                .css('fontFamily', 'Arial,sans-serif')\n",
        "                .css('fontSize', '12px')\n",
        "                .css('paddingLeft', '4px')\n",
        "                .css('paddingRight', '4px')\n",
        "                .css('paddingTop', '0px')\n",
        "                .css('paddingBottom', '0px')\n",
        "                .appendTo($controlUI);\n",
        "            \n",
        "            this.$controlTable = $('<table />')\n",
        "                .append($('<tr><td colspan=2>Layers</td></tr>'))\n",
        "                .appendTo($controlContents);\n",
        "        },\n",
        "\n",
        "        initializeLayersControl: function() {\n",
        "            var doc = this.$iframe[0].contentDocument;\n",
        "            var win = this.$iframe[0].contentWindow;\n",
        "\n",
        "            // Create the DIV to hold the control and call the LayersControl() constructor\n",
        "            // passing in this DIV.\n",
        "    \n",
        "            var layersControlDiv = document.createElement('div');\n",
        "            this.layersControl = new this.LayersControl(this, layersControlDiv, this.map);\n",
        "\n",
        "            layersControlDiv.index = 1;\n",
        "            this.map.controls[win.google.maps.ControlPosition.TOP_RIGHT].push(layersControlDiv);\n",
        "        },\n",
        "        \n",
        "        // Map geometry changed (pan, zoom, resize)\n",
        "        handleBoundsChanged: function() {\n",
        "            this.model.set('lng', this.map.getCenter().lng());\n",
        "            this.model.set('lat', this.map.getCenter().lat());\n",
        "            this.model.set('zoom', this.map.getZoom());\n",
        "            var bounds = this.map.getBounds();\n",
        "            var playgroundCompatible = [bounds.getSouthWest().lng(), bounds.getSouthWest().lat(),\n",
        "                                        bounds.getNorthEast().lng(), bounds.getNorthEast().lat()];\n",
        "            this.model.set('bounds', playgroundCompatible);\n",
        "            this.touch();\n",
        "        },\n",
        "        \n",
        "        // Receive custom messages from Python backend\n",
        "        on_msg: function(msg) {\n",
        "            var win = this.$iframe[0].contentWindow;\n",
        "            if (msg.command == 'addLayer') {\n",
        "                this.addLayer(msg.mapid, msg.token, msg.name, msg.visible);\n",
        "            } else if (msg.command == 'center') {\n",
        "                this.map.setCenter(new win.google.maps.LatLng(msg.lat, msg.lng));\n",
        "                if (msg.zoom !== null) {\n",
        "                    this.map.setZoom(msg.zoom);\n",
        "                }\n",
        "            }\n",
        "        },\n",
        "        \n",
        "        // Add an Earth Engine layer\n",
        "        addLayer: function(mapid, token, name, visible) {\n",
        "            var win = this.$iframe[0].contentWindow;\n",
        "            var eeMapOptions = {\n",
        "                getTileUrl: function(tile, zoom) {\n",
        "                    var url = ['https://earthengine.googleapis.com/map',\n",
        "                               mapid, zoom, tile.x, tile.y].join(\"/\");\n",
        "                    url += '?token=' + token\n",
        "                    return url;\n",
        "                },\n",
        "                tileSize: new win.google.maps.Size(256, 256),\n",
        "                opacity: visible ? 1.0 : 0.0,\n",
        "            };\n",
        "            \n",
        "            // Create the overlay map type\n",
        "            var mapType = new win.google.maps.ImageMapType(eeMapOptions);\n",
        "                \n",
        "            // Overlay the Earth Engine generated layer\n",
        "            this.map.overlayMapTypes.push(mapType);\n",
        "\n",
        "            // Update layer visibility control\n",
        "            var maxSlider = 100;\n",
        "            \n",
        "            function updateOpacity() {\n",
        "                mapType.setOpacity($checkbox[0].checked ? $slider[0].value / 100.0 : 0);\n",
        "            }\n",
        "            \n",
        "            var $checkbox = $('<input type=\"checkbox\">')\n",
        "                .prop('checked', visible)\n",
        "                .change(updateOpacity);\n",
        "            \n",
        "            var $slider = $('<input type=\"range\" />')\n",
        "                .prop('min', 0)\n",
        "                .prop('max', maxSlider)\n",
        "                .prop('value', maxSlider)\n",
        "                .css('width', '60px')\n",
        "                .on('input', updateOpacity);\n",
        "\n",
        "            // If user doesn't specify a layer name, create a default\n",
        "            if (name === null) {\n",
        "                name = 'Layer ' + this.map.overlayMapTypes.length;\n",
        "            }\n",
        "            \n",
        "            var $row = $('<tr />');\n",
        "            $('<td align=\"left\" />').append($checkbox).append(name).appendTo($row);\n",
        "            $('<td />').append($slider).appendTo($row);\n",
        "\n",
        "            this.layersControl.$controlTable.append($row);\n",
        "        }\n",
        "    });\n",
        "    \n",
        "    // Register the GoogleMapsView with the widget manager.\n",
        "    WidgetManager.register_widget_view('GoogleMapsView', GoogleMapsView);\n",
        "});\n"
       ],
       "metadata": {},
       "output_type": "display_data",
       "text": [
        "<IPython.core.display.Javascript at 0x10a0b1d10>"
       ]
      }
     ],
     "prompt_number": 4
    },
    {
     "cell_type": "heading",
     "level": 3,
     "metadata": {},
     "source": [
      "Guido Lemoine's Feature Collection to Pandas Dataframe Function"
     ]
    },
    {
     "cell_type": "code",
     "collapsed": false,
     "input": [
      "from geopandas import GeoDataFrame\n",
      "from shapely.geometry import shape\n",
      "\n",
      "\n",
      "def fc2df(fc):\n",
      "    # Convert a FeatureCollection into a pandas DataFrame\n",
      "  \n",
      "    # Features is a list of dict with the output\n",
      "    features = fc.getInfo()['features']\n",
      "\n",
      "    dictarr = []\n",
      "     \n",
      "    for f in features:\n",
      "        # Store all attributes in a dict\n",
      "        attr = f['properties']\n",
      "        # and treat geometry separately\n",
      "        attr['geometry'] = f['geometry']  # GeoJSON Feature!\n",
      "        # attr['geometrytype'] = f['geometry']['type']\n",
      "        dictarr.append(attr)\n",
      "      \n",
      "    df = GeoDataFrame(dictarr)\n",
      "    # Convert GeoJSON features to shape\n",
      "    #df['geometry'] = map(lambda s: shape(s), df.geometry)   \n",
      "    return df\n",
      "# End fc2df"
     ],
     "language": "python",
     "metadata": {},
     "outputs": [],
     "prompt_number": 5
    },
    {
     "cell_type": "heading",
     "level": 3,
     "metadata": {},
     "source": [
      "Retrieve coordinates of CT state polygon:"
     ]
    },
    {
     "cell_type": "code",
     "collapsed": false,
     "input": [
      "filename = \"/Users/Kit/CTpolygon.txt\"\n",
      "vertex_list = []\n",
      "\n",
      "with open(filename, 'r') as o_file:\n",
      "    line = o_file.readline()[1:-3]\n",
      "    while line:\n",
      "        line = line.split(',')\n",
      "        coords = [float(line[0]), float(line[1])]\n",
      "        \n",
      "        vertex_list.append(coords)\n",
      "        line = o_file.readline()[2:-3]\n",
      "        \n",
      "print(vertex_list[0:10])"
     ],
     "language": "python",
     "metadata": {},
     "outputs": [
      {
       "output_type": "stream",
       "stream": "stdout",
       "text": [
        "[[-72.3977171022447, 42.03309189931522], [-72.3885943398962, 42.03292197771742], [-72.3745266657436, 42.03280694244558], [-72.3681473358252, 42.03274819850335], [-72.3670431790677, 42.03273632331485], [-72.3580406358245, 42.03263917018669], [-72.3450571810366, 42.03235477126519], [-72.3368185442856, 42.032173740333064], [-72.3251543767583, 42.031953377553116], [-72.3249740439011, 42.03194997230511]]\n"
       ]
      }
     ],
     "prompt_number": 6
    },
    {
     "cell_type": "heading",
     "level": 3,
     "metadata": {},
     "source": [
      "Get images of elevation and night lights; clip to CT polygon:"
     ]
    },
    {
     "cell_type": "code",
     "collapsed": false,
     "input": [
      "map = GoogleMapsWidget(lat=41.5, lng=-73, zoom=9) # lat, lng and zoom are optional\n",
      "display(map)\n",
      "image1 = ee.Image('CGIAR/SRTM90_V4')\n",
      "image2 = ee.Image('NOAA/DMSP-OLS/NIGHTTIME_LIGHTS/F152005')\n",
      "ct_geom = ee.Feature.Polygon(vertex_list, {'name':'Connecticut'})\n",
      "ct = ee.Feature(ct_geom)\n",
      "image1 = image1.clip(ct)\n",
      "image2 = image2.clip(ct)\n",
      "map.addLayer(image=image1, name='Elevation',vis_params={'min':50, 'max':500})\n",
      "map.addLayer(image=image2, name='Lights',vis_params={'min':0, 'max':100})\n"
     ],
     "language": "python",
     "metadata": {},
     "outputs": [],
     "prompt_number": 7
    },
    {
     "cell_type": "heading",
     "level": 3,
     "metadata": {},
     "source": [
      "Make 1000 random points and use them to sample both layers:"
     ]
    },
    {
     "cell_type": "code",
     "collapsed": false,
     "input": [
      "\n",
      "region = ee.Feature.Rectangle(-73, 41, -72,  42)\n",
      "rand_points = ee.FeatureCollection.randomPoints(region, 1000, 1000, 1)\n",
      "\n",
      "sample1 = image1.addBands(image1).reduceToVectors(reducer=\"mean\", geometry=rand_points, geometryType=\"centroid\", scale=30, crs=\"EPSG:4326\")\n",
      "sample2 = image2.reduceToVectors(reducer=\"mean\", geometry=rand_points, geometryType=\"centroid\", scale=30, crs=\"EPSG:4326\")"
     ],
     "language": "python",
     "metadata": {},
     "outputs": [],
     "prompt_number": 9
    },
    {
     "cell_type": "heading",
     "level": 3,
     "metadata": {},
     "source": [
      "Convert samples (ee Feature Collections) to joined (geo)pandas dataframe"
     ]
    },
    {
     "cell_type": "code",
     "collapsed": false,
     "input": [
      "sample1df = fc2df(sample1)\n",
      "sample2df = fc2df(sample2)\n",
      "\n",
      "## big assumption is that order was preserved\n",
      "k = sample1df.join(sample2df, lsuffix='l', rsuffix='r')\n",
      "del k['labell']\n",
      "del k['geometryr']\n",
      "del k['cf_cvg']\n",
      "del k['avg_lights_x_pct']\n",
      "del k['labelr']\n",
      "k[0:10]\n",
      "## option to export to csv, shp, xls, many other formats"
     ],
     "language": "python",
     "metadata": {},
     "outputs": [
      {
       "html": [
        "<div style=\"max-height:1000px;max-width:1500px;overflow:auto;\">\n",
        "<table border=\"1\" class=\"dataframe\">\n",
        "  <thead>\n",
        "    <tr style=\"text-align: right;\">\n",
        "      <th></th>\n",
        "      <th>geometryl</th>\n",
        "      <th>mean</th>\n",
        "      <th>stable_lights</th>\n",
        "    </tr>\n",
        "  </thead>\n",
        "  <tbody>\n",
        "    <tr>\n",
        "      <th>0</th>\n",
        "      <td> {u'type': u'Point', u'geodesic': False, u'coor...</td>\n",
        "      <td> 230</td>\n",
        "      <td> 11</td>\n",
        "    </tr>\n",
        "    <tr>\n",
        "      <th>1</th>\n",
        "      <td> {u'type': u'Point', u'geodesic': False, u'coor...</td>\n",
        "      <td> 198</td>\n",
        "      <td>  8</td>\n",
        "    </tr>\n",
        "    <tr>\n",
        "      <th>2</th>\n",
        "      <td> {u'type': u'Point', u'geodesic': False, u'coor...</td>\n",
        "      <td>  24</td>\n",
        "      <td> 15</td>\n",
        "    </tr>\n",
        "    <tr>\n",
        "      <th>3</th>\n",
        "      <td> {u'type': u'Point', u'geodesic': False, u'coor...</td>\n",
        "      <td> 187</td>\n",
        "      <td> 21</td>\n",
        "    </tr>\n",
        "    <tr>\n",
        "      <th>4</th>\n",
        "      <td> {u'type': u'Point', u'geodesic': False, u'coor...</td>\n",
        "      <td> 192</td>\n",
        "      <td>  6</td>\n",
        "    </tr>\n",
        "    <tr>\n",
        "      <th>5</th>\n",
        "      <td> {u'type': u'Point', u'geodesic': False, u'coor...</td>\n",
        "      <td> 166</td>\n",
        "      <td>  6</td>\n",
        "    </tr>\n",
        "    <tr>\n",
        "      <th>6</th>\n",
        "      <td> {u'type': u'Point', u'geodesic': False, u'coor...</td>\n",
        "      <td> 133</td>\n",
        "      <td>  6</td>\n",
        "    </tr>\n",
        "    <tr>\n",
        "      <th>7</th>\n",
        "      <td> {u'type': u'Point', u'geodesic': False, u'coor...</td>\n",
        "      <td>  66</td>\n",
        "      <td>  8</td>\n",
        "    </tr>\n",
        "    <tr>\n",
        "      <th>8</th>\n",
        "      <td> {u'type': u'Point', u'geodesic': False, u'coor...</td>\n",
        "      <td>   5</td>\n",
        "      <td> 15</td>\n",
        "    </tr>\n",
        "    <tr>\n",
        "      <th>9</th>\n",
        "      <td> {u'type': u'Point', u'geodesic': False, u'coor...</td>\n",
        "      <td> 157</td>\n",
        "      <td> 29</td>\n",
        "    </tr>\n",
        "  </tbody>\n",
        "</table>\n",
        "</div>"
       ],
       "metadata": {},
       "output_type": "pyout",
       "prompt_number": 10,
       "text": [
        "                                           geometryl  mean  stable_lights\n",
        "0  {u'type': u'Point', u'geodesic': False, u'coor...   230             11\n",
        "1  {u'type': u'Point', u'geodesic': False, u'coor...   198              8\n",
        "2  {u'type': u'Point', u'geodesic': False, u'coor...    24             15\n",
        "3  {u'type': u'Point', u'geodesic': False, u'coor...   187             21\n",
        "4  {u'type': u'Point', u'geodesic': False, u'coor...   192              6\n",
        "5  {u'type': u'Point', u'geodesic': False, u'coor...   166              6\n",
        "6  {u'type': u'Point', u'geodesic': False, u'coor...   133              6\n",
        "7  {u'type': u'Point', u'geodesic': False, u'coor...    66              8\n",
        "8  {u'type': u'Point', u'geodesic': False, u'coor...     5             15\n",
        "9  {u'type': u'Point', u'geodesic': False, u'coor...   157             29"
       ]
      }
     ],
     "prompt_number": 10
    },
    {
     "cell_type": "heading",
     "level": 3,
     "metadata": {},
     "source": [
      "Perform OLS regression on data columns:"
     ]
    },
    {
     "cell_type": "code",
     "collapsed": false,
     "input": [
      "%%bash\n",
      "r --no-save\n",
      "print(\"Hi I'm printing this in R.\")\n",
      "q()"
     ],
     "language": "python",
     "metadata": {},
     "outputs": [
      {
       "output_type": "stream",
       "stream": "stdout",
       "text": [
        "\n",
        "R version 3.0.2 (2013-09-25) -- \"Frisbee Sailing\"\n",
        "Copyright (C) 2013 The R Foundation for Statistical Computing\n",
        "Platform: x86_64-apple-darwin10.8.0 (64-bit)\n",
        "\n",
        "R is free software and comes with ABSOLUTELY NO WARRANTY.\n",
        "You are welcome to redistribute it under certain conditions.\n",
        "Type 'license()' or 'licence()' for distribution details.\n",
        "\n",
        "  Natural language support but running in an English locale\n",
        "\n",
        "R is a collaborative project with many contributors.\n",
        "Type 'contributors()' for more information and\n",
        "'citation()' on how to cite R or R packages in publications.\n",
        "\n",
        "Type 'demo()' for some demos, 'help()' for on-line help, or\n",
        "'help.start()' for an HTML browser interface to help.\n",
        "Type 'q()' to quit R.\n",
        "\n",
        "> print(\"Hi I'm printing this in R.\")\n",
        "[1] \"Hi I'm printing this in R.\"\n",
        "> q()\n"
       ]
      }
     ],
     "prompt_number": 11
    },
    {
     "cell_type": "code",
     "collapsed": false,
     "input": [
      "import statsmodels.formula.api as sm\n",
      "Y = k['mean']\n",
      "X = k['stable_lights']\n",
      "result = sm.ols(formula=\"Y ~ X\", data=k).fit()\n",
      "print (result.summary())\n",
      "intercept = result.params[0]\n",
      "slope = result.params[1]"
     ],
     "language": "python",
     "metadata": {},
     "outputs": [
      {
       "output_type": "stream",
       "stream": "stdout",
       "text": [
        "                            OLS Regression Results                            \n",
        "==============================================================================\n",
        "Dep. Variable:                      Y   R-squared:                       0.008\n",
        "Model:                            OLS   Adj. R-squared:                  0.007\n",
        "Method:                 Least Squares   F-statistic:                     5.873\n",
        "Date:                Thu, 26 Mar 2015   Prob (F-statistic):             0.0156\n",
        "Time:                        11:20:54   Log-Likelihood:                -4286.4\n",
        "No. Observations:                 740   AIC:                             8577.\n",
        "Df Residuals:                     738   BIC:                             8586.\n",
        "Df Model:                           1                                         \n",
        "==============================================================================\n",
        "                 coef    std err          t      P>|t|      [95.0% Conf. Int.]\n",
        "------------------------------------------------------------------------------\n",
        "Intercept    124.0935      5.127     24.205      0.000       114.029   134.158\n",
        "X             -0.3656      0.151     -2.424      0.016        -0.662    -0.069\n",
        "==============================================================================\n",
        "Omnibus:                       59.949   Durbin-Watson:                   1.496\n",
        "Prob(Omnibus):                  0.000   Jarque-Bera (JB):               72.985\n",
        "Skew:                           0.764   Prob(JB):                     1.42e-16\n",
        "Kurtosis:                       3.183   Cond. No.                         59.7\n",
        "==============================================================================\n"
       ]
      }
     ],
     "prompt_number": 12
    },
    {
     "cell_type": "heading",
     "level": 3,
     "metadata": {},
     "source": [
      "Take a look at the random sample and regression line:"
     ]
    },
    {
     "cell_type": "code",
     "collapsed": false,
     "input": [
      "from matplotlib import pyplot as plt\n",
      "plt.plot(X, Y, '.')                     # plots the points\n",
      "plt.plot(X, slope*X + intercept, 'r')             \n",
      "plt.show()  "
     ],
     "language": "python",
     "metadata": {},
     "outputs": [
      {
       "metadata": {},
       "output_type": "display_data",
       "png": "[encoded data removed]",
       "text": [
        "<matplotlib.figure.Figure at 0x108ba2cd0>"
       ]
      }
     ],
     "prompt_number": 13
    },
    {
     "cell_type": "heading",
     "level": 3,
     "metadata": {},
     "source": [
      "Return coefficients to make predicted image layer in ee:"
     ]
    },
    {
     "cell_type": "code",
     "collapsed": false,
     "input": [
      "slope_image = ee.Image.constant(slope)\n",
      "int_image = ee.Image.constant(intercept)\n",
      "\n",
      "temp = image1.multiply(slope_image)\n",
      "predicted_image = temp.add(int_image)\n",
      "error_image = image2.subtract(predicted_image)\n",
      "error_image = error_image.abs()"
     ],
     "language": "python",
     "metadata": {},
     "outputs": [],
     "prompt_number": 14
    },
    {
     "cell_type": "heading",
     "level": 3,
     "metadata": {},
     "source": [
      "Display:"
     ]
    },
    {
     "cell_type": "code",
     "collapsed": false,
     "input": [
      "map = GoogleMapsWidget(lat=41.5, lng=-73, zoom=9) # lat, lng and zoom are optional\n",
      "display(map)\n",
      "PALETTE = ['DC143C','EA728A','F8DOD8','EA728a','DC143C']\n",
      "map.addLayer(image=image2, name='Measured',vis_params={'min':0, 'max':100})\n",
      "map.addLayer(image=predicted_image, name='Predicted',vis_params={'min':0, 'max':200})\n",
      "map.addLayer(image=error_image, name='Error',vis_params={'min':0, 'max':150}, visible=False)"
     ],
     "language": "python",
     "metadata": {},
     "outputs": [],
     "prompt_number": 15
    },
    {
     "cell_type": "code",
     "collapsed": false,
     "input": [],
     "language": "python",
     "metadata": {},
     "outputs": [],
     "prompt_number": 122
    },
    {
     "cell_type": "code",
     "collapsed": false,
     "input": [],
     "language": "python",
     "metadata": {},
     "outputs": [],
     "prompt_number": 31
    },
    {
     "cell_type": "code",
     "collapsed": false,
     "input": [],
     "language": "python",
     "metadata": {},
     "outputs": []
    }
   ],
   "metadata": {}
  }
 ]
}